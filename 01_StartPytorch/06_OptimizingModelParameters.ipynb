{
 "cells": [
  {
   "cell_type": "markdown",
   "metadata": {},
   "source": [
    "# Optimizinzg model parameters"
   ]
  },
  {
   "cell_type": "markdown",
   "metadata": {},
   "source": [
    "## Prerequisite Code\n",
    "[02_Dataset_and_DataLoader](02_Dataset_and_DataLoader.ipynb) 과 [04_BuildTheNeuralNetwork.ipynb](04_BuildTheNeuralNetwork.ipynb)에서 코드를 가져왔다"
   ]
  },
  {
   "cell_type": "code",
   "execution_count": 1,
   "metadata": {},
   "outputs": [],
   "source": [
    "import torch\n",
    "from torch import nn\n",
    "from torch.utils.data import DataLoader\n",
    "from torchvision import datasets\n",
    "from torchvision.transforms import ToTensor, Lambda\n",
    "\n",
    "training_data = datasets.FashionMNIST(\n",
    "    root=\"data\",\n",
    "    train=True,\n",
    "    download=True,\n",
    "    transform=ToTensor()\n",
    ")\n",
    "\n",
    "test_data = datasets.FashionMNIST(\n",
    "    root=\"data\",\n",
    "    train=False,\n",
    "    download=True,\n",
    "    transform=ToTensor()\n",
    ")\n",
    "\n",
    "device = \"cpu\"\n",
    "\n",
    "train_dataloader = DataLoader(training_data, batch_size=64)\n",
    "test_dataloader = DataLoader(test_data, batch_size=64)\n",
    "\n",
    "class NeuralNetwork(nn.Module):\n",
    "    def __init__(self):\n",
    "        super(NeuralNetwork, self).__init__()\n",
    "        self.flatten = nn.Flatten()\n",
    "        self.linear_relu_stack = nn.Sequential(\n",
    "            nn.Linear(28*28, 512),\n",
    "            nn.ReLU(),\n",
    "            nn.Linear(512, 512),\n",
    "            nn.ReLU(),\n",
    "            nn.Linear(512, 10),\n",
    "        )\n",
    "\n",
    "    def forward(self, x):\n",
    "        x = self.flatten(x)\n",
    "        logits = self.linear_relu_stack(x)\n",
    "        return logits\n",
    "\n",
    "model = NeuralNetwork().to(device)"
   ]
  },
  {
   "cell_type": "markdown",
   "metadata": {},
   "source": [
    "## Hyperparameter\n",
    "- epoch: the number times of iterate of the optimizaion loop\n",
    "- batch size: the number of data samples propagated through the nework befoe parameters are updated\n",
    "- learning rate: how much to update models parameters at each batch/epoch.\n",
    "  - Smaller values: slow learning speed\n",
    "  - Large values: may result in unpredictable behavior"
   ]
  },
  {
   "cell_type": "code",
   "execution_count": 2,
   "metadata": {},
   "outputs": [],
   "source": [
    "learning_rate = 1e-3\n",
    "batch_size = 64\n",
    "epochs = 5"
   ]
  },
  {
   "cell_type": "markdown",
   "metadata": {},
   "source": [
    "## Optimizaion Loop\n",
    "Each iteration of the optimizaion loop is called an epoch.   \n",
    "Each epoch consists of two main parts\n",
    "- The Train Loop: iterate over the training dataset and try to converge to opimal parameters.\n",
    "- The Validation/Test Loop: iterate over the test dataset to check if model performance is improving\n"
   ]
  },
  {
   "cell_type": "markdown",
   "metadata": {},
   "source": [
    "### Loss Function\n",
    "- Loss Function: measures the degree of dissimilarity of obtained result to the target value\n",
    "- Common loss function\n",
    "  - ```nn.MSELoss```(Mean Square Error) for regression\n",
    "  - ```nn.NLLLoss```(Negative Log Likelihood) for classification\n",
    "  - ```nn.CrossEntropyLoss```: combines ```nn.NLLLoss``` and ```nn.LogSoftmax```"
   ]
  },
  {
   "cell_type": "code",
   "execution_count": 3,
   "metadata": {},
   "outputs": [],
   "source": [
    "loss_fn = nn.CrossEntropyLoss()"
   ]
  },
  {
   "cell_type": "markdown",
   "metadata": {},
   "source": [
    "### Optimizer\n",
    "Optimization is the process of adjusting model parameters to reduce model error in each training step.\n",
    "- Optimization algorithms: Define how this process is performed.\n",
    "  - ```torch.optim.SGD```(Stochastic Gradient Descent)"
   ]
  },
  {
   "cell_type": "code",
   "execution_count": 4,
   "metadata": {},
   "outputs": [],
   "source": [
    "optimizer =torch.optim.SGD(model.parameters(), lr=learning_rate)\n"
   ]
  },
  {
   "cell_type": "markdown",
   "metadata": {},
   "source": [
    "### Optimization Step\n",
    "- Call ```optimizer.zero_grad()``` to reset the gradients of model parameters.\n",
    "  - Gradients by default add up; to prevent doublecounting, we explicitly zero them at each iteration.\n",
    "- Call ```loss.backwards()``` to Backpropagated the prediction loss.\n",
    "  - Pytorch deposits the gradients of the loss w,r,t each parameter.\n",
    "- Call ```optimizer.step()``` to adjust the parameters by the gradients callected in the packward pass."
   ]
  },
  {
   "cell_type": "markdown",
   "metadata": {},
   "source": [
    "## Full Implementaion\n",
    "- Define ```train_loop```: loops over optimization code.\n",
    "- Define ```test_loop```: Evaluates the model's performance against test data"
   ]
  },
  {
   "cell_type": "markdown",
   "metadata": {},
   "source": [
    "```enumerate```: 순서가 있는 자료형(list, set, tuple, dictionary, string, etc...)를 받아 index를 포함하는 enumerate 객체(index, feature)를 return 해줌"
   ]
  },
  {
   "cell_type": "code",
   "execution_count": 5,
   "metadata": {},
   "outputs": [],
   "source": [
    "def train_loop(dataloader, model, loss_fn, optimizer):\n",
    "    size = len(dataloader.dataset)\n",
    "    for batch, (x,y) in enumerate(dataloader):\n",
    "        pred = model(x.to(device))\n",
    "        loss = loss_fn(pred,y.to(device))\n",
    "\n",
    "        optimizer.zero_grad()\n",
    "        loss.backward()\n",
    "        optimizer.step()\n",
    "\n",
    "        if batch % 100 == 0:\n",
    "            loss, current = loss.item(), batch * len(x)\n",
    "            print(f\"loss: {loss:>7f} [{current:>5d}/{size:>5d}]\")\n",
    "\n",
    "def test_loop(dataloader, model, loss_fn):\n",
    "    size = len(dataloader.dataset)\n",
    "    num_batches = len(dataloader)\n",
    "    test_loss, correct = 0, 0\n",
    "\n",
    "    with torch.no_grad():\n",
    "        for x, y in dataloader:\n",
    "            pred = model(x.to(device))\n",
    "            test_loss += loss_fn(pred.to(device), y.to(device)).item()\n",
    "            correct += (pred.argmax(1).to(\"cpu\") == y.to(\"cpu\")).type(torch.float).sum().item()\n",
    "    test_loss /= num_batches\n",
    "    correct /= size\n",
    "    print(f\"Test Error: \\n Accuracy: {(100*correct):>0.1f}%, Avg loss: {test_loss:>8f} \\n\")\n",
    "\n",
    "    "
   ]
  },
  {
   "cell_type": "markdown",
   "metadata": {},
   "source": [
    "- Initialize the loss function and optimizer\n",
    "- Pass los function and optimizer to ```train_loop``` and ```test_loop```.\n",
    "- Fell Free to increase the number of epochs to track the model's improving performance\n"
   ]
  },
  {
   "cell_type": "code",
   "execution_count": 6,
   "metadata": {},
   "outputs": [
    {
     "name": "stdout",
     "output_type": "stream",
     "text": [
      "Epch 1\n",
      "----------------------------------\n",
      "loss: 2.319158 [    0/60000]\n",
      "loss: 2.298460 [ 6400/60000]\n",
      "loss: 2.276989 [12800/60000]\n",
      "loss: 2.258914 [19200/60000]\n",
      "loss: 2.266488 [25600/60000]\n",
      "loss: 2.220623 [32000/60000]\n",
      "loss: 2.238683 [38400/60000]\n",
      "loss: 2.207476 [44800/60000]\n",
      "loss: 2.194676 [51200/60000]\n",
      "loss: 2.158496 [57600/60000]\n",
      "Test Error: \n",
      " Accuracy: 25.9%, Avg loss: 2.159938 \n",
      "\n",
      "Epch 2\n",
      "----------------------------------\n",
      "loss: 2.175169 [    0/60000]\n",
      "loss: 2.163112 [ 6400/60000]\n",
      "loss: 2.105735 [12800/60000]\n",
      "loss: 2.111700 [19200/60000]\n",
      "loss: 2.091763 [25600/60000]\n",
      "loss: 2.013721 [32000/60000]\n",
      "loss: 2.045590 [38400/60000]\n",
      "loss: 1.970821 [44800/60000]\n",
      "loss: 1.957163 [51200/60000]\n",
      "loss: 1.896051 [57600/60000]\n",
      "Test Error: \n",
      " Accuracy: 60.5%, Avg loss: 1.899842 \n",
      "\n",
      "Epch 3\n",
      "----------------------------------\n",
      "loss: 1.926307 [    0/60000]\n",
      "loss: 1.899833 [ 6400/60000]\n",
      "loss: 1.789111 [12800/60000]\n",
      "loss: 1.822388 [19200/60000]\n",
      "loss: 1.742253 [25600/60000]\n",
      "loss: 1.673792 [32000/60000]\n",
      "loss: 1.693270 [38400/60000]\n",
      "loss: 1.597072 [44800/60000]\n",
      "loss: 1.607569 [51200/60000]\n",
      "loss: 1.511497 [57600/60000]\n",
      "Test Error: \n",
      " Accuracy: 62.3%, Avg loss: 1.538121 \n",
      "\n",
      "Epch 4\n",
      "----------------------------------\n",
      "loss: 1.594595 [    0/60000]\n",
      "loss: 1.561849 [ 6400/60000]\n",
      "loss: 1.421241 [12800/60000]\n",
      "loss: 1.487896 [19200/60000]\n",
      "loss: 1.387475 [25600/60000]\n",
      "loss: 1.367283 [32000/60000]\n",
      "loss: 1.380155 [38400/60000]\n",
      "loss: 1.306107 [44800/60000]\n",
      "loss: 1.336890 [51200/60000]\n",
      "loss: 1.238376 [57600/60000]\n",
      "Test Error: \n",
      " Accuracy: 63.1%, Avg loss: 1.273173 \n",
      "\n",
      "Epch 5\n",
      "----------------------------------\n",
      "loss: 1.343774 [    0/60000]\n",
      "loss: 1.321847 [ 6400/60000]\n",
      "loss: 1.166249 [12800/60000]\n",
      "loss: 1.264482 [19200/60000]\n",
      "loss: 1.152198 [25600/60000]\n",
      "loss: 1.167062 [32000/60000]\n",
      "loss: 1.185992 [38400/60000]\n",
      "loss: 1.124808 [44800/60000]\n",
      "loss: 1.163312 [51200/60000]\n",
      "loss: 1.075610 [57600/60000]\n",
      "Test Error: \n",
      " Accuracy: 64.2%, Avg loss: 1.104534 \n",
      "\n",
      "Epch 6\n",
      "----------------------------------\n",
      "loss: 1.172751 [    0/60000]\n",
      "loss: 1.167386 [ 6400/60000]\n",
      "loss: 0.995437 [12800/60000]\n",
      "loss: 1.121668 [19200/60000]\n",
      "loss: 1.004143 [25600/60000]\n",
      "loss: 1.030712 [32000/60000]\n",
      "loss: 1.064546 [38400/60000]\n",
      "loss: 1.007755 [44800/60000]\n",
      "loss: 1.048766 [51200/60000]\n",
      "loss: 0.972427 [57600/60000]\n",
      "Test Error: \n",
      " Accuracy: 65.2%, Avg loss: 0.994135 \n",
      "\n",
      "Epch 7\n",
      "----------------------------------\n",
      "loss: 1.051480 [    0/60000]\n",
      "loss: 1.066824 [ 6400/60000]\n",
      "loss: 0.877640 [12800/60000]\n",
      "loss: 1.026170 [19200/60000]\n",
      "loss: 0.910542 [25600/60000]\n",
      "loss: 0.934558 [32000/60000]\n",
      "loss: 0.985640 [38400/60000]\n",
      "loss: 0.931363 [44800/60000]\n",
      "loss: 0.968917 [51200/60000]\n",
      "loss: 0.903346 [57600/60000]\n",
      "Test Error: \n",
      " Accuracy: 66.5%, Avg loss: 0.918622 \n",
      "\n",
      "Epch 8\n",
      "----------------------------------\n",
      "loss: 0.961719 [    0/60000]\n",
      "loss: 0.997103 [ 6400/60000]\n",
      "loss: 0.792879 [12800/60000]\n",
      "loss: 0.958896 [19200/60000]\n",
      "loss: 0.848454 [25600/60000]\n",
      "loss: 0.864648 [32000/60000]\n",
      "loss: 0.930956 [38400/60000]\n",
      "loss: 0.880346 [44800/60000]\n",
      "loss: 0.911357 [51200/60000]\n",
      "loss: 0.853894 [57600/60000]\n",
      "Test Error: \n",
      " Accuracy: 67.8%, Avg loss: 0.864509 \n",
      "\n",
      "Epch 9\n",
      "----------------------------------\n",
      "loss: 0.893129 [    0/60000]\n",
      "loss: 0.945185 [ 6400/60000]\n",
      "loss: 0.729772 [12800/60000]\n",
      "loss: 0.909266 [19200/60000]\n",
      "loss: 0.804772 [25600/60000]\n",
      "loss: 0.812674 [32000/60000]\n",
      "loss: 0.889951 [38400/60000]\n",
      "loss: 0.844875 [44800/60000]\n",
      "loss: 0.868497 [51200/60000]\n",
      "loss: 0.816471 [57600/60000]\n",
      "Test Error: \n",
      " Accuracy: 68.9%, Avg loss: 0.823829 \n",
      "\n",
      "Epch 10\n",
      "----------------------------------\n",
      "loss: 0.838903 [    0/60000]\n",
      "loss: 0.903997 [ 6400/60000]\n",
      "loss: 0.680871 [12800/60000]\n",
      "loss: 0.871459 [19200/60000]\n",
      "loss: 0.772080 [25600/60000]\n",
      "loss: 0.773096 [32000/60000]\n",
      "loss: 0.856934 [38400/60000]\n",
      "loss: 0.818834 [44800/60000]\n",
      "loss: 0.835507 [51200/60000]\n",
      "loss: 0.786741 [57600/60000]\n",
      "Test Error: \n",
      " Accuracy: 70.3%, Avg loss: 0.791796 \n",
      "\n",
      "Done!\n"
     ]
    }
   ],
   "source": [
    "loss_fn = nn.CrossEntropyLoss()\n",
    "optimizer = torch.optim.SGD(model.parameters(), lr=learning_rate)\n",
    "\n",
    "epochs = 10\n",
    "\n",
    "for t in range(epochs):\n",
    "    print(f\"Epch {t+1}\\n----------------------------------\")\n",
    "    train_loop(train_dataloader, model, loss_fn, optimizer)\n",
    "    test_loop(test_dataloader, model, loss_fn)\n",
    "print(\"Done!\")"
   ]
  }
 ],
 "metadata": {
  "kernelspec": {
   "display_name": "Python 3.9.13 ('pytorch')",
   "language": "python",
   "name": "python3"
  },
  "language_info": {
   "codemirror_mode": {
    "name": "ipython",
    "version": 3
   },
   "file_extension": ".py",
   "mimetype": "text/x-python",
   "name": "python",
   "nbconvert_exporter": "python",
   "pygments_lexer": "ipython3",
   "version": "3.9.13"
  },
  "orig_nbformat": 4,
  "vscode": {
   "interpreter": {
    "hash": "88ed026e6e6df446360fa5f524e4e892f0492e13534613446d365f4e42b49d96"
   }
  }
 },
 "nbformat": 4,
 "nbformat_minor": 2
}
