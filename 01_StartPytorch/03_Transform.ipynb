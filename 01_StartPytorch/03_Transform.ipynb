{
 "cells": [
  {
   "cell_type": "markdown",
   "metadata": {},
   "source": [
    "# TRANSFORM\n",
    "TorchVision datasets have two parameters *transform* and *target_transform*\n",
    "-   tarsnform\n",
    "    -   ToTensor: Featrue를 normalized tensor로 변형해줌\n",
    "-   target_transform\n",
    "    -   Lambda: Label을 one-hot encoding 형태로 변형시켜줌"
   ]
  },
  {
   "cell_type": "code",
   "execution_count": 1,
   "metadata": {},
   "outputs": [],
   "source": [
    "import torch\n",
    "from torchvision import datasets\n",
    "from torchvision.transforms import ToTensor, Lambda"
   ]
  },
  {
   "cell_type": "markdown",
   "metadata": {},
   "source": [
    "- ToTensor()\n",
    "  - PIL Image or Numpy ndarry를  FloatTensor로 convert하고 Image pixcel의 intensity를 [0., ... ,1.]의 범위로 scale해줌\n",
    "- Lambda Transform\n",
    "  - user 정의 lambda function을 적용함\n",
    "  - one-hot encode로 부호화된 Tensor로 바꾸는 함수\n",
    "  - Size 10인 zerotensor 만들고\n",
    "  - scatter_ 호출해서 주어진 정답 y에 해당하는 index에 value=1할당"
   ]
  },
  {
   "cell_type": "code",
   "execution_count": 3,
   "metadata": {},
   "outputs": [],
   "source": [
    "ds = datasets.FashionMNIST(\n",
    "    root=\"data\",\n",
    "    train=True,\n",
    "    download=True,\n",
    "    transform=ToTensor(),\n",
    "    target_transform=Lambda(lambda y : torch.zeros(10, dtype=torch.float).scatter_(dim=0, index=torch.tensor(y), value=1))\n",
    ")"
   ]
  }
 ],
 "metadata": {
  "kernelspec": {
   "display_name": "Python 3.9.13 ('pytorch')",
   "language": "python",
   "name": "python3"
  },
  "language_info": {
   "codemirror_mode": {
    "name": "ipython",
    "version": 3
   },
   "file_extension": ".py",
   "mimetype": "text/x-python",
   "name": "python",
   "nbconvert_exporter": "python",
   "pygments_lexer": "ipython3",
   "version": "3.9.13"
  },
  "orig_nbformat": 4,
  "vscode": {
   "interpreter": {
    "hash": "88ed026e6e6df446360fa5f524e4e892f0492e13534613446d365f4e42b49d96"
   }
  }
 },
 "nbformat": 4,
 "nbformat_minor": 2
}
